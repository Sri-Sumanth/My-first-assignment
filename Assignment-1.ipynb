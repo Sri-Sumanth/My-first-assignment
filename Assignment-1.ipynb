{
 "cells": [
  {
   "cell_type": "markdown",
   "id": "29088810",
   "metadata": {},
   "source": [
    "### These are solutions to the list of questions in Assignment-1 related to Loops, Strings and Lists given by Nitish Sir"
   ]
  },
  {
   "cell_type": "markdown",
   "id": "5bec1c4c",
   "metadata": {},
   "source": [
    "### Sri Venkata Sumanth Pisapati | +91-6305575458"
   ]
  },
  {
   "cell_type": "markdown",
   "id": "42777bb5",
   "metadata": {},
   "source": [
    "# Loop Statements"
   ]
  },
  {
   "cell_type": "code",
   "execution_count": null,
   "id": "c23f5dd7",
   "metadata": {},
   "outputs": [],
   "source": [
    "#L1 E\n",
    "Q = input(\"How many elements you want to add to the list ? ::: \")\n",
    "List = [ input(f\"What is your input {i} ::: \") for i in range(1,int(Q)+1)]\n",
    "print(\"Your list is ::: \",List)\n",
    "for i in List:\n",
    "    print(i)"
   ]
  },
  {
   "cell_type": "code",
   "execution_count": null,
   "id": "e587ffc1",
   "metadata": {},
   "outputs": [],
   "source": [
    "#L2 M (Method-1)\n",
    "Q1 = input(\"How many elements you want to add to the list ? ::: \") # Len of the element\n",
    "Q2 = input(\"What is the elment you want to remove ? ::: \") # element you want to remove\n",
    "List = [input(f'Please enter element {i} ::: ' ) for i in range(1,int(Q1)+1)]\n",
    "for i in List:\n",
    "    if i == Q2:\n",
    "        for v in range(List.count(Q2)):\n",
    "            List.remove(Q2)\n",
    "    else:\n",
    "        print(\"No\")\n",
    "print()\n"
   ]
  },
  {
   "cell_type": "code",
   "execution_count": null,
   "id": "c5f240fa",
   "metadata": {},
   "outputs": [],
   "source": [
    "#L2 M (Method-2)\n",
    "Q1 = input(\"How many elements you want to add to the list ? ::: \") # Len of the element\n",
    "Q2 = input(\"What is the elment you want to remove ? ::: \") # element you want to remove\n",
    "List = [input(f'Please enter element {i} ::: ' ) for i in range(1,int(Q1)+1)]\n",
    "for i in List:\n",
    "    if i == Q2:\n",
    "        for v in range(List.count(Q2)):\n",
    "            List.remove(i)\n",
    "        print(List)\n",
    "else:\n",
    "    print(\"The element you are searching for is not there in the list\")"
   ]
  },
  {
   "cell_type": "code",
   "execution_count": null,
   "id": "ad29bdc2",
   "metadata": {},
   "outputs": [],
   "source": [
    "#L3 EM\n",
    "a = [100,90,80,70,50,40,0,'stop']\n",
    "#     0   1  2  3  4  5 6  7\n",
    "count = 0\n",
    "while True:\n",
    "    count+=1\n",
    "    Q1 = input(f\"What are the marks of student {count} ::: \")# Len of the element\n",
    "    if str(Q1) == a[7]:\n",
    "        break\n",
    "    elif int(Q1) > a[0] :print(\"100 is the max mark !\")\n",
    "    elif int(Q1) in range(a[1]+1,a[0]+1): print(\"Grade is A\")\n",
    "    elif int(Q1) in range(a[2]+1,a[1]+1): print(\"Grade is B\")\n",
    "    elif int(Q1) in range(a[3]+1,a[2]+1): print(\"Grade is C\")\n",
    "    elif int(Q1) in range(a[4]+1,a[3]+1): print(\"Grade is D\")\n",
    "    elif int(Q1) in range(a[5]+1,a[4]+1): print(\"Grade is E\")\n",
    "    elif int(Q1) in range(a[6],a[5]+1): print(\"Grade is F\")"
   ]
  },
  {
   "cell_type": "code",
   "execution_count": null,
   "id": "b40a0ca0",
   "metadata": {},
   "outputs": [],
   "source": [
    "#L3 Second Model\n",
    "count = 0\n",
    "while True:\n",
    "    count+=1\n",
    "    Q1 = input(f\"What are the marks of student {count} ::: \")# Len of the element\n",
    "    if Q1.isdigit():\n",
    "        if int(Q1) in range(91,101):print(\"Grade A\")\n",
    "        if int(Q1) in range(81,91):print(\"Grade B\")\n",
    "        if int(Q1) in range(71,81):print(\"Grade C\")\n",
    "        if int(Q1) in range(51,71):print(\"Grade D\")\n",
    "        if int(Q1) in range(41,51):print(\"Grade E\")\n",
    "        if int(Q1) in range(0,41):print(\"Grade F\")\n",
    "    elif Q1.strip().lower() == 'stop':\n",
    "        break"
   ]
  },
  {
   "cell_type": "code",
   "execution_count": null,
   "id": "eed4b785",
   "metadata": {},
   "outputs": [],
   "source": [
    "#L4 EM\n",
    "Q1 = int(input(\"Enter upper limit ::: \")) # Upper Limit\n",
    "List = [i**3 for i in range(1,Q1+1)]\n",
    "print(List)"
   ]
  },
  {
   "cell_type": "code",
   "execution_count": null,
   "id": "f197f6fd",
   "metadata": {},
   "outputs": [],
   "source": [
    "#L5 E\n",
    "LN = int(input(\"Lower Number ::: \")) # Lower Limit\n",
    "Upp = int(input(\"Upper Number ::: \")) # Upper Limit\n",
    "List = [i for i in range(LN,Upp+1) if i%2==0][::-1]\n",
    "print(List)\n"
   ]
  },
  {
   "cell_type": "code",
   "execution_count": null,
   "id": "be39cdc9",
   "metadata": {},
   "outputs": [],
   "source": [
    "#L6\n",
    "LN = int(input(\"Lower Number ::: \")) # Lower Limit\n",
    "Upp = int(input(\"Upper Number ::: \")) # Upper Limit\n",
    "List = [i for i in range(LN,Upp+1) if i%2!=0][::-1]\n",
    "print(List)\n"
   ]
  },
  {
   "cell_type": "code",
   "execution_count": null,
   "id": "ed1cd50f",
   "metadata": {},
   "outputs": [],
   "source": [
    "#L7\n",
    "LN = int(input(\"Give the number for which you want the table ::: \")) # Number\n",
    "UL = int(input(\"Give the number until which you want the table ::: \")) # Number upto which you want the table\n",
    "for i in range(1,UL+1):\n",
    "    print(LN,\"x\",i,\"=\",LN*i)"
   ]
  },
  {
   "cell_type": "code",
   "execution_count": null,
   "id": "bf604c56",
   "metadata": {},
   "outputs": [],
   "source": [
    "#L8\n",
    "LN = int(input(\"Give the upper number ::: \")) # Number\n",
    "for i in range(1,LN+1):\n",
    "    for v in list(range(1,i+1)):\n",
    "        print(v,end = \" \")\n",
    "    print()"
   ]
  },
  {
   "cell_type": "code",
   "execution_count": null,
   "id": "8dbc5aab",
   "metadata": {},
   "outputs": [],
   "source": [
    "#L9\n",
    "n = int(input(\"Give the number ::: \")) # Number\n",
    "d = int(input(\"Give the digit ::: \")) # Number\n",
    "List = []\n",
    "for i in range(1,n+1):\n",
    "        List.append(i*str(d))\n",
    "count = 0\n",
    "for v in range(len(List)):\n",
    "    count = count+int(List[v])\n",
    "print(count)"
   ]
  },
  {
   "cell_type": "code",
   "execution_count": null,
   "id": "10715545",
   "metadata": {},
   "outputs": [],
   "source": [
    "#L10\n",
    "count = 0\n",
    "List = []\n",
    "while True: \n",
    "    INP = int(input(f\"Give number {count} ::: \"))\n",
    "    if INP == 0:\n",
    "        Fin_list = List.append(\"Stop\") # Number\n",
    "        break\n",
    "\n",
    "    else:\n",
    "        Fin_list = List.append(INP) # Number\n",
    "        count = count+1\n",
    "print(\"Total List is ::: \", List)\n",
    "print(\"Total count is ::: \",count)\n",
    "print(\"The sum of the elements of the list is ::: \",sum(List[0:len(List)-1]))\n",
    "print(\"The average of the elements of the list is ::: \",(sum(List[0:len(List)-1]))/((count)))"
   ]
  },
  {
   "cell_type": "code",
   "execution_count": null,
   "id": "2d766f9e",
   "metadata": {},
   "outputs": [],
   "source": [
    "#L11\n",
    "INP = int(input(\"How many numbers ? ::: \"))\n",
    "LST = [int(input(f\"Give number {i} ::: \")) for i in range(1,INP+1)]\n",
    "print(\"Average of the elements is ::: \", sum(LST)/INP)"
   ]
  },
  {
   "cell_type": "code",
   "execution_count": null,
   "id": "974b11ba",
   "metadata": {},
   "outputs": [],
   "source": []
  },
  {
   "cell_type": "markdown",
   "id": "dc1f299a",
   "metadata": {},
   "source": [
    "# String Questions"
   ]
  },
  {
   "cell_type": "code",
   "execution_count": null,
   "id": "ffb85e65",
   "metadata": {},
   "outputs": [],
   "source": [
    "#S1\n",
    "import copy\n",
    "INP = list(input(\"Please give the word / sentence ::: \").strip())\n",
    "Or_List = INP.copy()\n",
    "for i in INP:\n",
    "    if INP.count(i) > 1:\n",
    "        for v in range(1,INP.count(i)):\n",
    "            INP.remove(i)\n",
    "for v in INP:\n",
    "    print(f'count of {v.upper()} is :::', Or_List.count(v))"
   ]
  },
  {
   "cell_type": "code",
   "execution_count": null,
   "id": "e6bfbda0",
   "metadata": {},
   "outputs": [],
   "source": [
    "#S2\n",
    "Required = list(input(\"Please give the 10 digit mobile number ::: \"))\n",
    "List = [i for i in range(0,10) if str(i) not in Required ]\n",
    "print(\"The missing numbers in the given mobile number are ::: \",List)"
   ]
  },
  {
   "cell_type": "code",
   "execution_count": null,
   "id": "4eec4340",
   "metadata": {},
   "outputs": [],
   "source": [
    "#S3\n",
    "INP = int(input(\"How many numbers ? ::: \"))\n",
    "i = 1\n",
    "Upp = INP\n",
    "count = 0\n",
    "List = []\n",
    "while i <= Upp: \n",
    "    INP = int(input(f\"Give number {i} ::: \"))\n",
    "    List.append(INP) # Number\n",
    "    count = count+1\n",
    "    i = i +1\n",
    "print(sum(List)/i)"
   ]
  },
  {
   "cell_type": "code",
   "execution_count": null,
   "id": "def629c3",
   "metadata": {},
   "outputs": [],
   "source": [
    "#S4\n",
    "Inp = input(\"Give the input ::: \")\n",
    "Inp = Inp.split(\"-\")\n",
    "Inp.sort()\n",
    "Inp"
   ]
  },
  {
   "cell_type": "code",
   "execution_count": null,
   "id": "4ad4aed7",
   "metadata": {},
   "outputs": [],
   "source": [
    "#S5\n",
    "Or_List = input(\"Give the input ::: \")\n",
    "vow = ['a','e','i','o','u']\n",
    "countv = 0\n",
    "countc = 0\n",
    "countd = 0\n",
    "countw = 0\n",
    "countspl = 0\n",
    "for i in Or_List:\n",
    "    if i.isalpha():\n",
    "        if i in vow:\n",
    "            countv = countv+1\n",
    "        else:\n",
    "            countc = countc+1\n",
    "    elif i.isdigit():\n",
    "        countd += 1\n",
    "    elif i.isspace():\n",
    "        countw += 1\n",
    "    else:\n",
    "        countspl += 1\n",
    "print(\"Count of Vowels is ::: \",countv)\n",
    "print(\"Count of Consonants is ::: \",countc)\n",
    "print(\"Count of Digits is ::: \",countd)\n",
    "print(\"Count of Spaces is ::: \",countw)\n",
    "print(\"Count of Spl.Char is ::: \",countspl)"
   ]
  },
  {
   "cell_type": "code",
   "execution_count": null,
   "id": "101dff9f",
   "metadata": {},
   "outputs": [],
   "source": [
    "#S6\n",
    "PI = input(\"Please enter you password ::: \")\n",
    "strength = 0\n",
    "\n",
    "#Len\n",
    "if len(PI) >= 8:\n",
    "    strength += 1\n",
    "\n",
    "#Lower and Upper\n",
    "count1 = 0\n",
    "for i in PI:\n",
    "    if i != i.lower():\n",
    "        count1 += 1\n",
    "if count1 > 0:\n",
    "    strength += 1\n",
    "\n",
    "#Alpha Num\n",
    "List = []\n",
    "for i in PI:\n",
    "    if i.isdigit():\n",
    "        List.append(\"1\")\n",
    "        break\n",
    "        \n",
    "for m in PI:\n",
    "    if m.isalpha():      \n",
    "        List.append(\"2\")\n",
    "        break\n",
    "if List[0] == '1' and List[1] == '2':\n",
    "    strength += 1\n",
    "\n",
    "#Spl Character\n",
    "count2 = 0\n",
    "for i in PI:\n",
    "    if i.isdigit() == False and i.isalpha() == False:\n",
    "        count2 += 1\n",
    "if count2 > 0:\n",
    "    strength += 1\n",
    "\n",
    "print(\"Strength of your password ::: \",strength)"
   ]
  },
  {
   "cell_type": "code",
   "execution_count": null,
   "id": "449800b6",
   "metadata": {},
   "outputs": [],
   "source": [
    "#S7\n",
    "INP1 = input(\"Give input number 1 ::: \")\n",
    "INP2 = input(\"Give input number 2 ::: \")\n",
    "if INP1.lower() == INP2.lower():\n",
    "    print(\"Both strings are same\")\n",
    "else:\n",
    "    print(\"There is difference between two inputs given\")"
   ]
  },
  {
   "cell_type": "code",
   "execution_count": null,
   "id": "e4ac38c6",
   "metadata": {},
   "outputs": [],
   "source": [
    "#S8\n",
    "INP1 = list(input(\"Give the string ::: \").strip())\n",
    "INP2 = input(\"Give the character ::: \")\n",
    "print(\"The number of times the given character appears in the string is ::: \",INP1.count(INP2))"
   ]
  },
  {
   "cell_type": "code",
   "execution_count": null,
   "id": "2949633e",
   "metadata": {},
   "outputs": [],
   "source": [
    "#S9\n",
    "INP1 = list(input(\"Give the string ::: \").strip())\n",
    "for i in range(len(INP1)):\n",
    "    if i%2 == 0:\n",
    "        print(INP1[i],end = \"\")"
   ]
  },
  {
   "cell_type": "code",
   "execution_count": null,
   "id": "008536e4",
   "metadata": {},
   "outputs": [],
   "source": [
    "#S10\n",
    "INP1 = input(\"Give the First Name ::: \").strip().lower().title()\n",
    "INP2 = input(\"Give the Last Name ::: \").strip().lower().title()\n",
    "print(INP1, INP2)"
   ]
  },
  {
   "cell_type": "code",
   "execution_count": null,
   "id": "1e60ce3c",
   "metadata": {},
   "outputs": [],
   "source": [
    "#S11\n",
    "Fin_List = []\n",
    "while True:\n",
    "    Q = input(\"Enter values ::: \").strip().lower()\n",
    "    if Q.isalpha():\n",
    "        if str(Q) == 'stop':\n",
    "            break\n",
    "        else:\n",
    "            Fin_List.append(Q)\n",
    "    else:\n",
    "        Fin_List.append(Q)\n",
    "Fin_List.sort()\n",
    "print(\"The final sorted list of the given inputs is ::: \", Fin_List)"
   ]
  },
  {
   "cell_type": "code",
   "execution_count": null,
   "id": "6ffc46ac",
   "metadata": {},
   "outputs": [],
   "source": []
  },
  {
   "cell_type": "code",
   "execution_count": null,
   "id": "bc736b75",
   "metadata": {},
   "outputs": [],
   "source": [
    "#S11\n",
    "Fin_List = []\n",
    "while True:\n",
    "    Q = \n",
    "    if Q.isalpha():\n",
    "        if str(Q) == 'stop':\n",
    "            break\n",
    "        else:\n",
    "            Fin_List.append(Q)\n",
    "    else:\n",
    "        Fin_List.append(Q)\n",
    "Fin_List.sort()\n",
    "print(\"The final sorted list of the given inputs is ::: \", Fin_List)"
   ]
  },
  {
   "cell_type": "code",
   "execution_count": null,
   "id": "485ab4b6",
   "metadata": {},
   "outputs": [],
   "source": []
  },
  {
   "cell_type": "code",
   "execution_count": null,
   "id": "93c25703",
   "metadata": {},
   "outputs": [],
   "source": []
  },
  {
   "cell_type": "code",
   "execution_count": null,
   "id": "a71fb6fb",
   "metadata": {},
   "outputs": [],
   "source": []
  },
  {
   "cell_type": "code",
   "execution_count": null,
   "id": "0283126b",
   "metadata": {},
   "outputs": [],
   "source": [
    "#S12\n",
    "Q = list(input(\"Enter string ::: \").strip())\n",
    "Q1 = Q.copy()\n",
    "\n",
    "\n",
    "for i in Q1:\n",
    "    if Q1.count(i) > 1:\n",
    "        for v in range(1,Q1.count(i)):\n",
    "            Q1.remove(i)\n",
    "for i in Q1:\n",
    "    if i == ' ':\n",
    "        continue\n",
    "    else:\n",
    "        print(i, \"---->\", Q.count(i))\n",
    "    "
   ]
  },
  {
   "cell_type": "code",
   "execution_count": null,
   "id": "4e2aa9e4",
   "metadata": {},
   "outputs": [],
   "source": []
  },
  {
   "cell_type": "markdown",
   "id": "7698bc1a",
   "metadata": {},
   "source": [
    "# Lists"
   ]
  },
  {
   "cell_type": "code",
   "execution_count": null,
   "id": "596f7aea",
   "metadata": {},
   "outputs": [],
   "source": [
    "#L1\n",
    "\n",
    "String = input(\"What is the string ? ::: \")\n",
    "String = String.split(\" \") \n",
    "List = []\n",
    "print(String)\n",
    "for i in String:\n",
    "    if i == '':\n",
    "        continue\n",
    "    else:\n",
    "        List.append(i)\n",
    "print(List)"
   ]
  },
  {
   "cell_type": "code",
   "execution_count": null,
   "id": "426cd526",
   "metadata": {},
   "outputs": [],
   "source": [
    "#L2\n",
    "\n",
    "String = \"A B C D E F G H I J K L M N O P Q R S T U V W X Y Z\"\n",
    "String = String.split(\" \")\n",
    "Char = input(\"Please give the character ::: \").upper()\n",
    "print(String[0:String.index(Char)+1])\n"
   ]
  },
  {
   "cell_type": "code",
   "execution_count": null,
   "id": "48be7f82",
   "metadata": {},
   "outputs": [],
   "source": [
    "#L3\n",
    "empList = []\n",
    "num_of_empl = int(input(\"Number of employees ::: \"))\n",
    "for i in range(1,num_of_empl+1):\n",
    "    EN = input(f\"What is the name employee {i} \").strip().lower().title()\n",
    "    empList.append(EN)\n",
    "print(\"-------------------------------------------------------------------------\")\n",
    "print(\"List of employees are ::: \",empList)\n",
    "print(\"-------------------------------------------------------------------------\")\n",
    "EMS = input(f\"What is the name employee you want to search for ::: \")\n",
    "if EMS.strip().lower().title() in empList:\n",
    "        print(\"Employee is present\")\n",
    "else:\n",
    "        print(\"Employee is not present\")"
   ]
  },
  {
   "cell_type": "code",
   "execution_count": null,
   "id": "e40a836b",
   "metadata": {},
   "outputs": [],
   "source": [
    "#L4\n",
    "fin_list = [input(f'please enter number {i} ::: ') for i in range(1,11)]\n",
    "print(\"----------------------------------------------------------------\")\n",
    "print(\"Max of the numbers is ::: \",max(fin_list), \" | \", \"Index of Max number is ::: \", fin_list.index(max(fin_list)))\n",
    "print(\"Min of the numbers is ::: \",min(fin_list), \" | \", \"Index of Min number is ::: \", fin_list.index(min(fin_list)))"
   ]
  },
  {
   "cell_type": "code",
   "execution_count": null,
   "id": "1907523a",
   "metadata": {},
   "outputs": [],
   "source": [
    "#L5\n",
    "List_num = int(input(\"What is the length of the lists you want to create ? :::: \"))\n",
    "lis_1 = [input(f'please enter number {i} ::: ') for i in range(1,List_num+1)]\n",
    "print(\"The first list is ::: \",lis_1)\n",
    "print(\"--------------------------------------------\")\n",
    "lis_2 = [input(f'please enter number {v} ::: ') for v in range(1,List_num+1)]\n",
    "print(\"The second list is ::: \",lis_2)\n",
    "print(\"--------------------------------------------\")\n",
    "for i in range(0,List_num):\n",
    "    print(lis_1[i],lis_2[(len(lis_2)-1)-i])"
   ]
  },
  {
   "cell_type": "code",
   "execution_count": null,
   "id": "9f4d0845",
   "metadata": {},
   "outputs": [],
   "source": [
    "#L6\n",
    "output = []\n",
    "list1 = [\"M\", \"na\", \"i\", \"Ashu\"]\n",
    "list2 = [\"y\", \"me\", \"s\", \"tosh\"]\n",
    "for i in range(len(list1)):\n",
    "    output.append((list1[i]+list2[i]))\n",
    "print(output)"
   ]
  },
  {
   "cell_type": "code",
   "execution_count": null,
   "id": "10414805",
   "metadata": {},
   "outputs": [],
   "source": [
    "#L7\n",
    "List = [\"Mango\",\"Apple\",\"Pineapple\",\"Banana\",\"Custard apple\"]\n",
    "INP = input(\"Give the name of the element you want to remove ::: \").strip().lower().title()\n",
    "i = 0\n",
    "while i <= List.count(INP):\n",
    "    List.remove(str(INP))\n",
    "    i = i+1\n",
    "print(List)"
   ]
  },
  {
   "cell_type": "code",
   "execution_count": null,
   "id": "f42f47d9",
   "metadata": {},
   "outputs": [],
   "source": [
    "#L7 - For\n",
    "List = [\"Mango\",\"Apple\",\"Pineapple\",\"Banana\",\"Custard apple\"]\n",
    "INP = input(\"Give the name of the element you want to remove ::: \")\n",
    "for i in List:\n",
    "    if i == INP.strip().lower().title():\n",
    "        for i in range(List.count(i)):\n",
    "            List.remove(INP)\n",
    "print(List)    "
   ]
  },
  {
   "cell_type": "code",
   "execution_count": null,
   "id": "744d9fba",
   "metadata": {},
   "outputs": [],
   "source": [
    "#L8\n",
    "n = int(input(\"Please give the lower number ::: \"))\n",
    "m = int(input(\"Please give the higher number ::: \"))\n",
    "for i in range(n,m+1):\n",
    "    for v in range(2,i):\n",
    "        if (i%v) == 0:\n",
    "            break\n",
    "    else:\n",
    "        print(i)\n",
    "    "
   ]
  },
  {
   "cell_type": "code",
   "execution_count": null,
   "id": "2a7dd807",
   "metadata": {},
   "outputs": [],
   "source": [
    "#L9\n",
    "list1 = [\"Hello\", \"World\", \"Good\"]\n",
    "list2 = [\"Hi\", \"There\", \"bad\"]\n",
    "fin_list = []\n",
    "for v in list1:\n",
    "    for i in range(len(list2)):\n",
    "        fin_list.append(v+ \" \" + list2[i])\n",
    "print(fin_list)"
   ]
  },
  {
   "cell_type": "code",
   "execution_count": null,
   "id": "050018e9",
   "metadata": {},
   "outputs": [],
   "source": [
    "#L10\n",
    "names = [\"Ashutosh\", \"Ajay\", \"Alankrita\", \"Rachit\", \"Komal\", \"Anil\"]\n",
    "marks = [23, 21, 26, 23, 27, 24]\n",
    "inp = input(\"Give the name of the student ::: \").strip().lower().title()\n",
    "if inp in names:\n",
    "    print(inp, \"got\", marks[names.index(inp)],\"marks\")\n",
    "else:\n",
    "    print(\"Name is not there\")"
   ]
  },
  {
   "cell_type": "code",
   "execution_count": 2,
   "id": "1921474c",
   "metadata": {},
   "outputs": [
    {
     "name": "stdout",
     "output_type": "stream",
     "text": [
      "Give the name of the student ::: nitish\n",
      "Name is not there\n"
     ]
    }
   ],
   "source": [
    "#L11\n",
    "names = [\"Ashutosh\", \"Ajay\", \"Alankrita\", \"Rachit\", \"Komal\", \"Anil\"]\n",
    "marks = [23, 21, 26, 23, 27, 24]\n",
    "inp = input(\"Give the name of the student ::: \").strip().lower().title()\n",
    "if inp in names:\n",
    "    print(inp, \"got\", marks[names.index(inp)],\"marks\")\n",
    "    NN = inp\n",
    "    NM = int(input(\"Please give the new marks ::: \"))\n",
    "    marks[names.index(inp)] = NM\n",
    "    print(marks)\n",
    "else:\n",
    "    print(\"Name is not there\")\n"
   ]
  },
  {
   "cell_type": "code",
   "execution_count": 7,
   "id": "5b7af891",
   "metadata": {},
   "outputs": [
    {
     "name": "stdout",
     "output_type": "stream",
     "text": [
      "Give the name of the new student ::: ajay\n",
      "Name is there\n"
     ]
    }
   ],
   "source": [
    "#L12\n",
    "names = [\"Ashutosh\", \"Ajay\", \"Alankrita\", \"Rachit\", \"Komal\", \"Anil\"]\n",
    "marks = [23, 21, 26, 23, 27, 24]\n",
    "NN = input(\"Give the name of the new student ::: \").strip().lower().title()\n",
    "if NN in names:\n",
    "    print(\"Name is there\")\n",
    "else:\n",
    "    NM = int(input(\"Please give the new marks ::: \"))\n",
    "    names.append(NN)\n",
    "    marks.append(NM)\n",
    "    print(names)\n",
    "    print(marks)\n"
   ]
  },
  {
   "cell_type": "markdown",
   "id": "44c0eaa5",
   "metadata": {},
   "source": []
  }
 ],
 "metadata": {
  "kernelspec": {
   "display_name": "Python 3",
   "language": "python",
   "name": "python3"
  },
  "language_info": {
   "codemirror_mode": {
    "name": "ipython",
    "version": 3
   },
   "file_extension": ".py",
   "mimetype": "text/x-python",
   "name": "python",
   "nbconvert_exporter": "python",
   "pygments_lexer": "ipython3",
   "version": "3.8.8"
  }
 },
 "nbformat": 4,
 "nbformat_minor": 5
}
